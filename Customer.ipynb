{
 "cells": [
  {
   "cell_type": "markdown",
   "metadata": {},
   "source": [
    "# Customer Experience Data Analizi"
   ]
  },
  {
   "cell_type": "markdown",
   "metadata": {},
   "source": [
    "## 1. Veri Seti Seçimi\n",
    "Bu analizde kullanılan veri seti: **Customer Experience Data**\n",
    "Veri seti, müşteri etkileşimleri, satın alım ve davranış verileri ile memnuniyet ve elde tutma durumlarını içermektedir."
   ]
  },
  {
   "cell_type": "markdown",
   "id": "0a1f5d8e",
   "metadata": {},
   "source": [
    "## Gerekli kütüphaneler"
   ]
  },
  {
   "cell_type": "code",
   "execution_count": null,
   "metadata": {},
   "outputs": [],
   "source": [
    "import pandas as pd  # Veri analizi için pandas\n",
    "import numpy as np  # Sayısal işlemler için numpy\n",
    "import matplotlib.pyplot as plt  # Grafik çizimi için matplotlib\n",
    "import seaborn as sns  # Gelişmiş görselleştirme için seaborn"
   ]
  },
  {
   "cell_type": "markdown",
   "id": "928891cf",
   "metadata": {},
   "source": [
    "# Ayar: Grafik stili beyaz ızgara olarak belirleniyor"
   ]
  },
  {
   "cell_type": "code",
   "execution_count": null,
   "id": "afdd6254",
   "metadata": {},
   "outputs": [],
   "source": [
    "sns.set(style=\"whitegrid\")"
   ]
  },
  {
   "cell_type": "markdown",
   "id": "2db1a343",
   "metadata": {},
   "source": [
    "## 1. Veri Setini Yükleme"
   ]
  },
  {
   "cell_type": "code",
   "execution_count": null,
   "metadata": {},
   "outputs": [],
   "source": [
    "print(\"Veri seti yükleniyor...\")\n",
    "df = pd.read_csv(\"customer_experience_data.csv\")  # CSV dosyasından veri yükleniyor\n",
    "print(\"Veri seti başarıyla yüklendi. İlk 5 gözlem:\")\n",
    "print(df.head())  # Veri setinin ilk 5 satırı gösteriliyor\n"
   ]
  },
  {
   "cell_type": "markdown",
   "metadata": {},
   "source": [
    "## 2. Veri Seti Genel Bilgisi"
   ]
  },
  {
   "cell_type": "code",
   "execution_count": null,
   "metadata": {},
   "outputs": [],
   "source": [
    "# Sayısal değişkenlerin istatistiksel özeti\n",
    "print(\"\\n--- Veri Seti Genel Bilgisi ---\")\n",
    "print(f\"Toplam gözlem sayısı: {df.shape[0]}\")\n",
    "print(f\"Toplam değişken sayısı: {df.shape[1]}\")\n",
    "print(\"Veri tipleri:\")\n",
    "print(df.dtypes.value_counts())  # Veri tiplerinin dağılımı yazdırılıyor"
   ]
  },
  {
   "cell_type": "markdown",
   "id": "896ba8fd",
   "metadata": {},
   "source": [
    "# Sayısal ve kategorik sütunların ayrılması"
   ]
  },
  {
   "cell_type": "code",
   "execution_count": null,
   "id": "66649244",
   "metadata": {},
   "outputs": [],
   "source": [
    "numeric_cols = df.select_dtypes(include=[np.number]).columns.tolist()\n",
    "categorical_cols = df.select_dtypes(include=[\"object\"]).columns.tolist()\n",
    "if \"Customer_ID\" in numeric_cols:\n",
    "    numeric_cols.remove(\"Customer_ID\")  # Kimlik sütunu analiz dışı bırakılıyor"
   ]
  },
  {
   "cell_type": "markdown",
   "metadata": {},
   "source": [
    "## 3. Sayısal Değişkenlerin Özeti"
   ]
  },
  {
   "cell_type": "code",
   "execution_count": null,
   "metadata": {},
   "outputs": [],
   "source": [
    "print(\"\\n--- Sayısal Değişkenlerin Özeti ---\")\n",
    "describe_df = df[numeric_cols].describe().T[['mean', 'std', 'min', '50%', 'max']]\n",
    "describe_df.columns = ['Ortalama', 'Standart Sapma', 'Minimum', 'Medyan', 'Maksimum']\n",
    "print(describe_df)  # Sayısal özet tablo yazdırılıyor"
   ]
  },
  {
   "cell_type": "markdown",
   "metadata": {},
   "source": [
    "## 4. Sayısal Değişkenlerin Dağılımı (Histogramlar)"
   ]
  },
  {
   "cell_type": "code",
   "execution_count": null,
   "metadata": {},
   "outputs": [],
   "source": [
    "print(\"\\n--- Sayısal Değişkenlerin Dağılımı ---\")\n",
    "df[numeric_cols].hist(bins=20, figsize=(15, 10), color=\"skyblue\", edgecolor=\"black\")\n",
    "plt.suptitle(\"Sayısal Değişkenlerin Dağılımı\", fontsize=16)\n",
    "plt.tight_layout()\n",
    "plt.show()"
   ]
  },
  {
   "cell_type": "markdown",
   "metadata": {},
   "source": [
    "## 5. Kategorik Değişkenlerin Özeti"
   ]
  },
  {
   "cell_type": "code",
   "execution_count": null,
   "metadata": {},
   "outputs": [],
   "source": [
    "print(\"\\n--- Kategorik Değişkenlerin Özeti ---\")\n",
    "for col in categorical_cols:\n",
    "    print(f\"{col}: benzersiz değer sayısı = {df[col].nunique()}, en sık değer = {df[col].mode()[0]}\")\n"
   ]
  },
  {
   "cell_type": "markdown",
   "id": "9b84737e",
   "metadata": {},
   "source": [
    "## 6. Kategorik Değişkenlerin Dağılımı (Barplot)"
   ]
  },
  {
   "cell_type": "code",
   "execution_count": null,
   "id": "1449c96e",
   "metadata": {},
   "outputs": [],
   "source": [
    "print(\"\\n--- Kategorik Değişkenlerin Dağılımı ---\")\n",
    "for col in categorical_cols:\n",
    "    plt.figure(figsize=(6, 4))\n",
    "    sns.countplot(data=df, x=col, order=df[col].value_counts().index)\n",
    "    plt.title(f\"{col} Dağılımı\")\n",
    "    plt.xticks(rotation=45)\n",
    "    plt.tight_layout()\n",
    "    plt.show()"
   ]
  },
  {
   "cell_type": "markdown",
   "id": "be1e53ee",
   "metadata": {},
   "source": [
    "## 7. Eksik Değer Analizi"
   ]
  },
  {
   "cell_type": "code",
   "execution_count": null,
   "id": "5810f07f",
   "metadata": {},
   "outputs": [],
   "source": [
    "print(\"\\n--- Eksik Değer Analizi ---\")\n",
    "missing = df.isnull().sum()\n",
    "missing = missing[missing > 0].sort_values(ascending=False)\n",
    "if not missing.empty:\n",
    "    print(\"Eksik veri içeren sütunlar ve sayıları:\")\n",
    "    print(missing)\n",
    "    # Eksik veri oranı barplot ile gösterilir\n",
    "    missing_percent = (missing / len(df)) * 100\n",
    "    plt.figure(figsize=(8, 4))\n",
    "    sns.barplot(x=missing_percent.values, y=missing_percent.index, palette=\"Reds_r\")\n",
    "    plt.xlabel(\"Eksik Veri Oranı (%)\")\n",
    "    plt.title(\"Eksik Verilerin Görselleştirilmesi\")\n",
    "    plt.tight_layout()\n",
    "    plt.show()\n",
    "else:\n",
    "    print(\"Veri setinde eksik veri bulunmamaktadır.\")\n"
   ]
  },
  {
   "cell_type": "markdown",
   "id": "df3afcd0",
   "metadata": {},
   "source": [
    "## 8. Aykırı Değer Analizi (IQR Yöntemi)"
   ]
  },
  {
   "cell_type": "code",
   "execution_count": null,
   "id": "e6a68513",
   "metadata": {},
   "outputs": [],
   "source": [
    "def detect_outliers_iqr(data, column):\n",
    "    q1 = data[column].quantile(0.25)\n",
    "    q3 = data[column].quantile(0.75)\n",
    "    iqr = q3 - q1\n",
    "    lower = q1 - 1.5 * iqr\n",
    "    upper = q3 + 1.5 * iqr\n",
    "    return data[(data[column] < lower) | (data[column] > upper)]\n",
    "\n",
    "for col in numeric_cols:\n",
    "    outliers = detect_outliers_iqr(df, col)\n",
    "    oran = len(outliers) / len(df) * 100\n",
    "    print(f\"{col} sütununda {len(outliers)} aykırı değer bulundu (%{oran:.2f}).\")"
   ]
  },
  {
   "cell_type": "markdown",
   "id": "f686bae5",
   "metadata": {},
   "source": [
    "# 9. Boxplot ile Aykırı Değer Görselleştirme"
   ]
  },
  {
   "cell_type": "code",
   "execution_count": null,
   "metadata": {},
   "outputs": [],
   "source": [
    "print(\"\\n--- Boxplot ile Aykırı Değerlerin Görselleştirilmesi ---\")\n",
    "for col in numeric_cols:\n",
    "    plt.figure(figsize=(6, 4))\n",
    "    sns.boxplot(x=df[col], color=\"lightblue\")\n",
    "    plt.title(f\"{col} - Boxplot\")\n",
    "    plt.tight_layout()\n",
    "    plt.show()\n",
    "\n",
    "print(\"\\nAnaliz tamamlandı.\")"
   ]
  }
 ],
 "metadata": {
  "kernelspec": {
   "display_name": "Python 3",
   "language": "python",
   "name": "python3"
  },
  "language_info": {
   "name": "python",
   "version": "3.x"
  }
 },
 "nbformat": 4,
 "nbformat_minor": 5
}
